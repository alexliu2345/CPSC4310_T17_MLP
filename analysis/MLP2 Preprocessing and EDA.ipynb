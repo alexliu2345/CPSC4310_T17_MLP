{
 "cells": [
  {
   "cell_type": "code",
   "execution_count": 35,
   "id": "80ad455c",
   "metadata": {},
   "outputs": [],
   "source": [
    "# Library import\n",
    "import numpy as np\n",
    "import pandas as pd\n",
    "import matplotlib.pyplot as plt\n",
    "from sklearn import preprocessing"
   ]
  },
  {
   "cell_type": "code",
   "execution_count": 47,
   "id": "fa41e964",
   "metadata": {},
   "outputs": [
    {
     "name": "stdout",
     "output_type": "stream",
     "text": [
      "   Unnamed: 0  Id Processor_Manufacturer     Processor GPU_Manufacturer  \\\n",
      "0           0   1                    AMD          C420           Matrox   \n",
      "1           1   2                    AMD          C680           Matrox   \n",
      "2           2   3                    AMD          C680           Matrox   \n",
      "3           3   4                    AMD          C900           Matrox   \n",
      "4           4   5                    AMD  FireGL V3300              AMD   \n",
      "\n",
      "   Memory_Capacity Memory_Type  \n",
      "0            2.000       GDDR5  \n",
      "1            2.000       GDDR5  \n",
      "2            4.000       GDDR5  \n",
      "3            4.000       GDDR5  \n",
      "4            0.125       GDDR2  \n",
      "      Unnamed: 0    Id Processor_Manufacturer     Processor GPU_Manufacturer  \\\n",
      "2049        2049  2050                 NVidia  Quadro P5000              PNY   \n",
      "2050        2050  2051                 NVidia   Quadro P600              PNY   \n",
      "2051        2051  2052                 NVidia  Quadro P6000              PNY   \n",
      "2052        2052  2053                 NVidia  Quadro P6000              PNY   \n",
      "2053        2053  2054                 NVidia   Quadro P620              PNY   \n",
      "\n",
      "      Memory_Capacity Memory_Type  \n",
      "2049             16.0      GDDR5X  \n",
      "2050              2.0       GDDR5  \n",
      "2051             24.0       GDDR5  \n",
      "2052             24.0      GDDR5X  \n",
      "2053              2.0       GDDR5  \n"
     ]
    }
   ],
   "source": [
    "#DIM_GPU_PROD\n",
    "df = pd.read_csv('DIM_GPU_PROD.csv')\n",
    "df['Memory_Capacity'].replace(0,np.NaN)\n",
    "df.dropna(inplace = True)\n",
    "df.set_index('Id')\n",
    "df.sort_index()\n",
    "print(df.head())\n",
    "print(df.tail())\n",
    "df.to_csv('DIM_GPU_PROD.csv')"
   ]
  },
  {
   "cell_type": "code",
   "execution_count": 52,
   "id": "f12a34b9",
   "metadata": {},
   "outputs": [
    {
     "name": "stdout",
     "output_type": "stream",
     "text": [
      "count    2054.000000\n",
      "mean     1026.500000\n",
      "std       593.083046\n",
      "min         0.000000\n",
      "25%       513.250000\n",
      "50%      1026.500000\n",
      "75%      1539.750000\n",
      "max      2053.000000\n",
      "Name: Unnamed: 0, dtype: float64\n",
      "\n",
      "count    2054.000000\n",
      "mean     1027.500000\n",
      "std       593.083046\n",
      "min         1.000000\n",
      "25%       514.250000\n",
      "50%      1027.500000\n",
      "75%      1540.750000\n",
      "max      2054.000000\n",
      "Name: Id, dtype: float64\n",
      "\n",
      "count       2054\n",
      "unique         3\n",
      "top       NVidia\n",
      "freq        1071\n",
      "Name: Processor_Manufacturer, dtype: object\n",
      "\n",
      "count            2054\n",
      "unique            291\n",
      "top       GeForce 730\n",
      "freq               41\n",
      "Name: Processor, dtype: object\n",
      "\n",
      "count     2054\n",
      "unique      42\n",
      "top       Asus\n",
      "freq       213\n",
      "Name: GPU_Manufacturer, dtype: object\n",
      "\n",
      "count    2054.000000\n",
      "mean        2.602529\n",
      "std         2.986029\n",
      "min         0.031250\n",
      "25%         1.000000\n",
      "50%         2.000000\n",
      "75%         3.000000\n",
      "max        32.000000\n",
      "Name: Memory_Capacity, dtype: float64\n",
      "\n",
      "count      2054\n",
      "unique        8\n",
      "top       GDDR5\n",
      "freq       1214\n",
      "Name: Memory_Type, dtype: object\n",
      "\n"
     ]
    },
    {
     "data": {
      "text/plain": [
       "<AxesSubplot:>"
      ]
     },
     "execution_count": 52,
     "metadata": {},
     "output_type": "execute_result"
    },
    {
     "data": {
      "image/png": "[encoded data removed]",
      "text/plain": [
       "<Figure size 432x288 with 1 Axes>"
      ]
     },
     "metadata": {
      "needs_background": "light"
     },
     "output_type": "display_data"
    }
   ],
   "source": [
    "#Part c\n",
    "for column in df.columns:\n",
    "    print(df[column].describe(percentiles = [0.25, 0.75]))\n",
    "    print()\n",
    "boxplot = df.boxplot(column = ['Memory_Capacity'])\n",
    "boxplot"
   ]
  },
  {
   "cell_type": "code",
   "execution_count": 50,
   "id": "b28e5917",
   "metadata": {},
   "outputs": [
    {
     "data": {
      "text/plain": [
       "Index(['Unnamed: 0', 'Id', 'Processor_Manufacturer', 'Processor',\n",
       "       'GPU_Manufacturer', 'Memory_Capacity', 'Memory_Type'],\n",
       "      dtype='object')"
      ]
     },
     "execution_count": 50,
     "metadata": {},
     "output_type": "execute_result"
    }
   ],
   "source": [
    "df.columns"
   ]
  },
  {
   "cell_type": "code",
   "execution_count": 53,
   "id": "d8bca835",
   "metadata": {},
   "outputs": [
    {
     "name": "stdout",
     "output_type": "stream",
     "text": [
      "       Unnamed: 0  CodeId    TimeId      Open     Close      High       Low\n",
      "0               0       1  20171103  0.000001  0.000001  0.000001  0.000001\n",
      "1               1       1  20171104  0.000001  0.000001  0.000001  0.000001\n",
      "2               2       1  20171105  0.000001  0.000001  0.000001  0.000001\n",
      "3               3       1  20171106  0.000001  0.000001  0.000001  0.000001\n",
      "4               4       1  20171107  0.000001  0.000001  0.000001  0.000001\n",
      "...           ...     ...       ...       ...       ...       ...       ...\n",
      "15839       15839      15  20180409  0.000026  0.000025  0.000025  0.000025\n",
      "15840       15840      15  20180410  0.000025  0.000025  0.000025  0.000025\n",
      "15841       15841      15  20180411  0.000025  0.000028  0.000027  0.000026\n",
      "15842       15842      15  20180412  0.000028  0.000032  0.000032  0.000027\n",
      "15843       15843      15  20180413  0.000032  0.000033  0.000034  0.000032\n",
      "\n",
      "[15844 rows x 7 columns]\n"
     ]
    }
   ],
   "source": [
    "#FACT_CRYPTO_RATE\n",
    "df = pd.read_csv('FACT_CRYPTO_RATE.csv')\n",
    "#df['Memory_Capacity'].replace(0,np.NaN)\n",
    "df.dropna(inplace = True)\n",
    "#df.set_index('Id')\n",
    "#df.sort_index()\n",
    "#print(df.head())\n",
    "#print(df.tail())\n",
    "\n",
    "df_min_max_scaled = df.copy()\n",
    "  \n",
    "columns = ['Open','Close','High','Low']    \n",
    "# apply normalization techniques\n",
    "for column in columns:#df_min_max_scaled.columns:\n",
    "    df_min_max_scaled[column] = (df_min_max_scaled[column] - df_min_max_scaled[column].min()) / (df_min_max_scaled[column].max() - df_min_max_scaled[column].min())    \n",
    "  \n",
    "# view normalized data\n",
    "print(df_min_max_scaled)\n",
    "df_min_max_scaled.to_csv('FACT_CRYPTO_RATE.csv')\n"
   ]
  },
  {
   "cell_type": "code",
   "execution_count": 55,
   "id": "8cc49425",
   "metadata": {},
   "outputs": [
    {
     "name": "stdout",
     "output_type": "stream",
     "text": [
      "count    15844.000000\n",
      "mean      7921.500000\n",
      "std       4573.913168\n",
      "min          0.000000\n",
      "25%       3960.750000\n",
      "50%       7921.500000\n",
      "75%      11882.250000\n",
      "max      15843.000000\n",
      "Name: Unnamed: 0, dtype: float64\n",
      "\n",
      "count    15844.000000\n",
      "mean         8.345620\n",
      "std          4.621995\n",
      "min          1.000000\n",
      "25%          4.000000\n",
      "50%          7.000000\n",
      "75%         13.000000\n",
      "max         15.000000\n",
      "Name: CodeId, dtype: float64\n",
      "\n",
      "count    1.584400e+04\n",
      "mean     2.015964e+07\n",
      "std      1.312684e+04\n",
      "min      2.013052e+07\n",
      "25%      2.015060e+07\n",
      "50%      2.016071e+07\n",
      "75%      2.017071e+07\n",
      "max      2.018041e+07\n",
      "Name: TimeId, dtype: float64\n",
      "\n",
      "count    1.584400e+04\n",
      "mean     1.137460e-02\n",
      "std      6.154040e-02\n",
      "min      0.000000e+00\n",
      "25%      3.593691e-07\n",
      "50%      5.134136e-05\n",
      "75%      6.397639e-04\n",
      "max      1.000000e+00\n",
      "Name: Open, dtype: float64\n",
      "\n",
      "count    1.584400e+04\n",
      "mean     1.138876e-02\n",
      "std      6.154190e-02\n",
      "min      0.000000e+00\n",
      "25%      3.594197e-07\n",
      "50%      5.128448e-05\n",
      "75%      6.421325e-04\n",
      "max      1.000000e+00\n",
      "Name: Close, dtype: float64\n",
      "\n",
      "count    1.584400e+04\n",
      "mean     1.145829e-02\n",
      "std      6.224929e-02\n",
      "min      0.000000e+00\n",
      "25%      3.640674e-07\n",
      "50%      4.977406e-05\n",
      "75%      6.466181e-04\n",
      "max      1.000000e+00\n",
      "Name: High, dtype: float64\n",
      "\n",
      "count    1.584400e+04\n",
      "mean     1.116938e-02\n",
      "std      5.986441e-02\n",
      "min      0.000000e+00\n",
      "25%      3.531525e-07\n",
      "50%      5.269926e-05\n",
      "75%      6.313828e-04\n",
      "max      1.000000e+00\n",
      "Name: Low, dtype: float64\n",
      "\n"
     ]
    },
    {
     "data": {
      "text/plain": [
       "<AxesSubplot:>"
      ]
     },
     "execution_count": 55,
     "metadata": {},
     "output_type": "execute_result"
    },
    {
     "data": {
      "image/png": "[encoded data removed]",
      "text/plain": [
       "<Figure size 432x288 with 1 Axes>"
      ]
     },
     "metadata": {
      "needs_background": "light"
     },
     "output_type": "display_data"
    }
   ],
   "source": [
    "#part c\n",
    "columns = ['Open','Close','High','Low'] \n",
    "for column in df.columns:\n",
    "    print(df[column].describe(percentiles = [0.25, 0.75]))\n",
    "    print()\n",
    "boxplot = df.boxplot(column = [column for column in columns])\n",
    "boxplot"
   ]
  },
  {
   "cell_type": "code",
   "execution_count": 56,
   "id": "9c2b3d71",
   "metadata": {},
   "outputs": [
    {
     "name": "stdout",
     "output_type": "stream",
     "text": [
      "   Unnamed: 0  Id  Code Currency_Name  Is_Mineable\n",
      "0           0   1   ADA       Cardano            0\n",
      "1           1   2   BTC       Bitcoin            1\n",
      "2           2   3  DASH          DASH            1\n",
      "3           3   4  DOGE      Dogecoin            1\n",
      "4           4   5   EOS           EOS            0\n",
      "    Unnamed: 0  Id  Code Currency_Name  Is_Mineable\n",
      "10          10  11  USDT        Tether            0\n",
      "11          11  12   XEM           NEM            0\n",
      "12          12  13   XLM       Stellar            0\n",
      "13          13  14   XMR        Monero            1\n",
      "14          14  15   XRP        Ripple            0\n"
     ]
    }
   ],
   "source": [
    "#DIM_CRYPTO_DATA\n",
    "df = pd.read_csv('DIM_CRYPTO_DATA.csv')\n",
    "#df['Memory_Capacity'].replace(0,np.NaN)\n",
    "df.dropna(inplace = True)\n",
    "df.set_index('Id')\n",
    "df.sort_index()\n",
    "print(df.head())\n",
    "print(df.tail())\n",
    "df.to_csv('DIM_CRYPTO_DATA.csv')"
   ]
  },
  {
   "cell_type": "code",
   "execution_count": 57,
   "id": "b96a5d09",
   "metadata": {},
   "outputs": [
    {
     "name": "stdout",
     "output_type": "stream",
     "text": [
      "count    15.000000\n",
      "mean      7.000000\n",
      "std       4.472136\n",
      "min       0.000000\n",
      "25%       3.500000\n",
      "50%       7.000000\n",
      "75%      10.500000\n",
      "max      14.000000\n",
      "Name: Unnamed: 0, dtype: float64\n",
      "\n",
      "count    15.000000\n",
      "mean      8.000000\n",
      "std       4.472136\n",
      "min       1.000000\n",
      "25%       4.500000\n",
      "50%       8.000000\n",
      "75%      11.500000\n",
      "max      15.000000\n",
      "Name: Id, dtype: float64\n",
      "\n",
      "count      15\n",
      "unique     15\n",
      "top       ADA\n",
      "freq        1\n",
      "Name: Code, dtype: object\n",
      "\n",
      "count          15\n",
      "unique         15\n",
      "top       Cardano\n",
      "freq            1\n",
      "Name: Currency_Name, dtype: object\n",
      "\n",
      "count    15.000000\n",
      "mean      0.400000\n",
      "std       0.507093\n",
      "min       0.000000\n",
      "25%       0.000000\n",
      "50%       0.000000\n",
      "75%       1.000000\n",
      "max       1.000000\n",
      "Name: Is_Mineable, dtype: float64\n",
      "\n"
     ]
    },
    {
     "data": {
      "text/plain": [
       "(array([9., 0., 0., 0., 0., 0., 0., 0., 0., 6.]),\n",
       " array([0. , 0.1, 0.2, 0.3, 0.4, 0.5, 0.6, 0.7, 0.8, 0.9, 1. ]),\n",
       " <BarContainer object of 10 artists>)"
      ]
     },
     "execution_count": 57,
     "metadata": {},
     "output_type": "execute_result"
    },
    {
     "data": {
      "image/png": "[encoded data removed]",
      "text/plain": [
       "<Figure size 432x288 with 1 Axes>"
      ]
     },
     "metadata": {
      "needs_background": "light"
     },
     "output_type": "display_data"
    }
   ],
   "source": [
    "#part c\n",
    "columns = ['Open','Close','High','Low'] \n",
    "for column in df.columns:\n",
    "    print(df[column].describe(percentiles = [0.25, 0.75]))\n",
    "    print()\n",
    "hist = plt.hist(df['Is_Mineable'])\n",
    "hist\n",
    "\n"
   ]
  },
  {
   "cell_type": "code",
   "execution_count": 58,
   "id": "4b3585a6",
   "metadata": {},
   "outputs": [
    {
     "name": "stdout",
     "output_type": "stream",
     "text": [
      "        Unnamed: 0  ProdId    TimeId  RegionId  MerchantId  Price_USD  \\\n",
      "0                0       1  20140917         4          32   0.028076   \n",
      "1                1       1  20140918         4          32   0.025747   \n",
      "2                2       1  20140919         4          32   0.025570   \n",
      "3                3       1  20140920         4          32   0.025429   \n",
      "4                4       1  20140921         4          32   0.025410   \n",
      "...            ...     ...       ...       ...         ...        ...   \n",
      "997151      997151    2054  20180312         4          32   0.012170   \n",
      "997152      997152    2054  20180313         4          32   0.012254   \n",
      "997153      997153    2054  20180314         4          32   0.012182   \n",
      "997154      997154    2054  20180315         4          32   0.012113   \n",
      "997155      997155    2054  20180316         4          32   0.012087   \n",
      "\n",
      "        Price_Original  \n",
      "0             0.023146  \n",
      "1             0.021245  \n",
      "2             0.021178  \n",
      "3             0.021178  \n",
      "4             0.021178  \n",
      "...                ...  \n",
      "997151        0.010555  \n",
      "997152        0.010555  \n",
      "997153        0.010521  \n",
      "997154        0.010508  \n",
      "997155        0.010509  \n",
      "\n",
      "[997156 rows x 7 columns]\n"
     ]
    }
   ],
   "source": [
    "#FACT_GPU_PRICE\n",
    "df = pd.read_csv('FACT_GPU_PRICE.csv')\n",
    "#df['Memory_Capacity'].replace(0,np.NaN)\n",
    "df.dropna(inplace = True)\n",
    "#df.set_index('Id')\n",
    "#df.sort_index()\n",
    "#print(df.head())\n",
    "#print(df.tail())\n",
    "\n",
    "df_min_max_scaled = df.copy()\n",
    "  \n",
    "columns = ['Price_USD','Price_Original']    \n",
    "# apply normalization techniques\n",
    "for column in columns:#df_min_max_scaled.columns:\n",
    "    df_min_max_scaled[column] = (df_min_max_scaled[column] - df_min_max_scaled[column].min()) / (df_min_max_scaled[column].max() - df_min_max_scaled[column].min())    \n",
    "  \n",
    "# view normalized data\n",
    "print(df_min_max_scaled)\n",
    "df_min_max_scaled.to_csv('FACT_GPU_PRICE.csv')"
   ]
  },
  {
   "cell_type": "code",
   "execution_count": 61,
   "id": "22cf0eb6",
   "metadata": {},
   "outputs": [
    {
     "name": "stdout",
     "output_type": "stream",
     "text": [
      "count    997156.000000\n",
      "mean     498577.500000\n",
      "std      287854.286851\n",
      "min           0.000000\n",
      "25%      249288.750000\n",
      "50%      498577.500000\n",
      "75%      747866.250000\n",
      "max      997155.000000\n",
      "Name: Unnamed: 0, dtype: float64\n",
      "\n",
      "count    997156.000000\n",
      "mean       1132.670265\n",
      "std         592.613036\n",
      "min           1.000000\n",
      "25%         785.000000\n",
      "50%        1048.000000\n",
      "75%        1628.000000\n",
      "max        2054.000000\n",
      "Name: ProdId, dtype: float64\n",
      "\n",
      "count    9.971560e+05\n",
      "mean     2.016313e+07\n",
      "std      1.166009e+04\n",
      "min      2.013032e+07\n",
      "25%      2.016032e+07\n",
      "50%      2.016122e+07\n",
      "75%      2.017082e+07\n",
      "max      2.018032e+07\n",
      "Name: TimeId, dtype: float64\n",
      "\n",
      "count    997156.000000\n",
      "mean          5.724711\n",
      "std           2.987859\n",
      "min           1.000000\n",
      "25%           4.000000\n",
      "50%           4.000000\n",
      "75%          10.000000\n",
      "max          11.000000\n",
      "Name: RegionId, dtype: float64\n",
      "\n",
      "count    997156.000000\n",
      "mean         41.575452\n",
      "std          16.682549\n",
      "min           1.000000\n",
      "25%          32.000000\n",
      "50%          32.000000\n",
      "75%          51.000000\n",
      "max          81.000000\n",
      "Name: MerchantId, dtype: float64\n",
      "\n",
      "count    997156.000000\n",
      "mean          0.021011\n",
      "std           0.038930\n",
      "min           0.000000\n",
      "25%           0.004351\n",
      "50%           0.010152\n",
      "75%           0.022829\n",
      "max           1.000000\n",
      "Name: Price_USD, dtype: float64\n",
      "\n",
      "count    997156.000000\n",
      "mean          0.020116\n",
      "std           0.035976\n",
      "min           0.000000\n",
      "25%           0.004060\n",
      "50%           0.009781\n",
      "75%           0.022241\n",
      "max           1.000000\n",
      "Name: Price_Original, dtype: float64\n",
      "\n"
     ]
    },
    {
     "data": {
      "text/plain": [
       "<AxesSubplot:>"
      ]
     },
     "execution_count": 61,
     "metadata": {},
     "output_type": "execute_result"
    },
    {
     "data": {
      "image/png": "[encoded data removed]",
      "text/plain": [
       "<Figure size 432x288 with 4 Axes>"
      ]
     },
     "metadata": {
      "needs_background": "light"
     },
     "output_type": "display_data"
    }
   ],
   "source": [
    "#part c\n",
    "hcolumns = ['ProdId','RegionId','MerchantId'] \n",
    "bcolumns = ['Price_USD','Price_Original']\n",
    "for column in df.columns:\n",
    "    print(df[column].describe(percentiles = [0.25, 0.75]))\n",
    "    print()\n",
    "df.hist(column = [column for column in hcolumns])\n",
    "df.boxplot(column = [column for column in bcolumns])"
   ]
  },
  {
   "cell_type": "code",
   "execution_count": 62,
   "id": "8854a347",
   "metadata": {},
   "outputs": [
    {
     "data": {
      "text/plain": [
       "<AxesSubplot:>"
      ]
     },
     "execution_count": 62,
     "metadata": {},
     "output_type": "execute_result"
    },
    {
     "data": {
      "image/png": "[encoded data removed]",
      "text/plain": [
       "<Figure size 432x288 with 1 Axes>"
      ]
     },
     "metadata": {
      "needs_background": "light"
     },
     "output_type": "display_data"
    }
   ],
   "source": [
    "#part c\n",
    "df.boxplot(column = [column for column in bcolumns])"
   ]
  },
  {
   "cell_type": "code",
   "execution_count": null,
   "id": "41e59174",
   "metadata": {},
   "outputs": [],
   "source": []
  }
 ],
 "metadata": {
  "kernelspec": {
   "display_name": "Python 3 (ipykernel)",
   "language": "python",
   "name": "python3"
  },
  "language_info": {
   "codemirror_mode": {
    "name": "ipython",
    "version": 3
   },
   "file_extension": ".py",
   "mimetype": "text/x-python",
   "name": "python",
   "nbconvert_exporter": "python",
   "pygments_lexer": "ipython3",
   "version": "3.9.7"
  }
 },
 "nbformat": 4,
 "nbformat_minor": 5
}
